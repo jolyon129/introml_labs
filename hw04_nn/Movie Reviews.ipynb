{
 "cells": [
  {
   "cell_type": "code",
   "execution_count": 19,
   "metadata": {},
   "outputs": [],
   "source": [
    "import numpy as np\n",
    "import matplotlib.pyplot as plt\n",
    "import sklearn\n",
    "import pandas as pd\n",
    "from scipy.sparse import csr_matrix\n",
    "from sklearn.feature_extraction.text import CountVectorizer\n",
    "from sklearn.metrics import confusion_matrix\n",
    "from sklearn.model_selection import KFold\n",
    "from K_nearest import K_nearest\n",
    "\n",
    "with open(\"reviewstrain.txt\", \"r\") as file:\n",
    "    X_train = []\n",
    "    y_train = []\n",
    "    for line in file:\n",
    "        # exclude the label\n",
    "        X_train.append(line[1:].strip())\n",
    "        y_train.append(int(line[0]))\n",
    "\n",
    "with open(\"reviewstest.txt\", \"r\") as file:\n",
    "    X_test = []\n",
    "    y_test = []\n",
    "    for line in file:\n",
    "        X_test.append(line[1:].strip())\n",
    "        y_test.append(int(line[0]))\n",
    "\n",
    "corpus = X_train + X_test"
   ]
  },
  {
   "cell_type": "code",
   "execution_count": 20,
   "metadata": {},
   "outputs": [],
   "source": [
    "vectorizer = CountVectorizer()\n",
    "d_t_matrix= vectorizer.fit_transform(X_train)\n",
    "voc_idx = d_t_matrix.sum(axis=0)\n",
    "vocabulary = np.asarray(vectorizer.get_feature_names())"
   ]
  },
  {
   "cell_type": "markdown",
   "metadata": {},
   "source": [
    "## Experienment and Check the first sentence"
   ]
  },
  {
   "cell_type": "code",
   "execution_count": 21,
   "metadata": {},
   "outputs": [
    {
     "data": {
      "text/plain": [
       "array(['films', 'horror', '1930s', 'beast', 'the', 'beauty', 'of',\n",
       "       'imagining', 're', 'transporting', 'finally', 'and', 'funny',\n",
       "       'stirring'], dtype='<U17')"
      ]
     },
     "execution_count": 21,
     "metadata": {},
     "output_type": "execute_result"
    }
   ],
   "source": [
    "vocabulary[d_t_matrix[0].nonzero()[1]]"
   ]
  },
  {
   "cell_type": "code",
   "execution_count": 22,
   "metadata": {},
   "outputs": [
    {
     "data": {
      "text/html": [
       "<div>\n",
       "<style scoped>\n",
       "    .dataframe tbody tr th:only-of-type {\n",
       "        vertical-align: middle;\n",
       "    }\n",
       "\n",
       "    .dataframe tbody tr th {\n",
       "        vertical-align: top;\n",
       "    }\n",
       "\n",
       "    .dataframe thead th {\n",
       "        text-align: right;\n",
       "    }\n",
       "</style>\n",
       "<table border=\"1\" class=\"dataframe\">\n",
       "  <thead>\n",
       "    <tr style=\"text-align: right;\">\n",
       "      <th></th>\n",
       "      <th>term</th>\n",
       "      <th>freq</th>\n",
       "    </tr>\n",
       "  </thead>\n",
       "  <tbody>\n",
       "    <tr>\n",
       "      <th>0</th>\n",
       "      <td>10</td>\n",
       "      <td>5</td>\n",
       "    </tr>\n",
       "    <tr>\n",
       "      <th>1</th>\n",
       "      <td>100</td>\n",
       "      <td>1</td>\n",
       "    </tr>\n",
       "    <tr>\n",
       "      <th>2</th>\n",
       "      <td>105</td>\n",
       "      <td>1</td>\n",
       "    </tr>\n",
       "    <tr>\n",
       "      <th>3</th>\n",
       "      <td>11</td>\n",
       "      <td>2</td>\n",
       "    </tr>\n",
       "    <tr>\n",
       "      <th>4</th>\n",
       "      <td>12</td>\n",
       "      <td>1</td>\n",
       "    </tr>\n",
       "  </tbody>\n",
       "</table>\n",
       "</div>"
      ],
      "text/plain": [
       "  term  freq\n",
       "0   10     5\n",
       "1  100     1\n",
       "2  105     1\n",
       "3   11     2\n",
       "4   12     1"
      ]
     },
     "execution_count": 22,
     "metadata": {},
     "output_type": "execute_result"
    }
   ],
   "source": [
    "temp = {'term': vectorizer.get_feature_names(), 'freq':np.asarray(voc_idx).squeeze()}\n",
    "voc_df = pd.DataFrame(temp)\n",
    "voc_df.head()"
   ]
  },
  {
   "cell_type": "markdown",
   "metadata": {},
   "source": [
    "## The 5 most frequent words"
   ]
  },
  {
   "cell_type": "code",
   "execution_count": 23,
   "metadata": {},
   "outputs": [
    {
     "data": {
      "text/html": [
       "<div>\n",
       "<style scoped>\n",
       "    .dataframe tbody tr th:only-of-type {\n",
       "        vertical-align: middle;\n",
       "    }\n",
       "\n",
       "    .dataframe tbody tr th {\n",
       "        vertical-align: top;\n",
       "    }\n",
       "\n",
       "    .dataframe thead th {\n",
       "        text-align: right;\n",
       "    }\n",
       "</style>\n",
       "<table border=\"1\" class=\"dataframe\">\n",
       "  <thead>\n",
       "    <tr style=\"text-align: right;\">\n",
       "      <th></th>\n",
       "      <th>term</th>\n",
       "      <th>freq</th>\n",
       "    </tr>\n",
       "  </thead>\n",
       "  <tbody>\n",
       "    <tr>\n",
       "      <th>5004</th>\n",
       "      <td>the</td>\n",
       "      <td>1262</td>\n",
       "    </tr>\n",
       "    <tr>\n",
       "      <th>225</th>\n",
       "      <td>and</td>\n",
       "      <td>923</td>\n",
       "    </tr>\n",
       "    <tr>\n",
       "      <th>3382</th>\n",
       "      <td>of</td>\n",
       "      <td>826</td>\n",
       "    </tr>\n",
       "    <tr>\n",
       "      <th>5082</th>\n",
       "      <td>to</td>\n",
       "      <td>529</td>\n",
       "    </tr>\n",
       "    <tr>\n",
       "      <th>2643</th>\n",
       "      <td>is</td>\n",
       "      <td>466</td>\n",
       "    </tr>\n",
       "  </tbody>\n",
       "</table>\n",
       "</div>"
      ],
      "text/plain": [
       "     term  freq\n",
       "5004  the  1262\n",
       "225   and   923\n",
       "3382   of   826\n",
       "5082   to   529\n",
       "2643   is   466"
      ]
     },
     "execution_count": 23,
     "metadata": {},
     "output_type": "execute_result"
    }
   ],
   "source": [
    "voc_df.nlargest(5, 'freq')"
   ]
  },
  {
   "cell_type": "markdown",
   "metadata": {},
   "source": [
    "## The entropy of the whole sentence"
   ]
  },
  {
   "cell_type": "code",
   "execution_count": 24,
   "metadata": {},
   "outputs": [],
   "source": [
    "y_train = np.asarray(y_train)"
   ]
  },
  {
   "cell_type": "code",
   "execution_count": 25,
   "metadata": {},
   "outputs": [
    {
     "name": "stdout",
     "output_type": "stream",
     "text": [
      "0.9952229310409331\n"
     ]
    }
   ],
   "source": [
    "n_1 = y_train.sum()\n",
    "n_t = y_train.shape[0]\n",
    "n_0 = n_t -n_1\n",
    "total_entropy = -((n_1/n_t)*np.log2(n_1/n_t) + (n_0/n_t)*np.log2(n_0/n_t))\n",
    "print(total_entropy)"
   ]
  },
  {
   "cell_type": "code",
   "execution_count": 26,
   "metadata": {},
   "outputs": [
    {
     "data": {
      "text/plain": [
       "(array([0, 0, 0, 0, 0, 0, 0, 0, 0, 0, 0, 0, 0, 0], dtype=int32),\n",
       " array([1872, 2379,   11,  443, 5004,  448, 3382, 2453, 3935, 5143, 1875,\n",
       "         225, 2031, 4747], dtype=int32))"
      ]
     },
     "execution_count": 26,
     "metadata": {},
     "output_type": "execute_result"
    }
   ],
   "source": [
    "d_t_matrix[0].nonzero()"
   ]
  },
  {
   "cell_type": "code",
   "execution_count": 27,
   "metadata": {},
   "outputs": [],
   "source": [
    "d_t_ndarr = d_t_matrix.toarray()"
   ]
  },
  {
   "cell_type": "markdown",
   "metadata": {},
   "source": [
    "## Calculate the infomation gain of every attributes"
   ]
  },
  {
   "cell_type": "code",
   "execution_count": 38,
   "metadata": {},
   "outputs": [],
   "source": [
    "from collections import defaultdict\n",
    "\n",
    "# When the token is equal to 1\n",
    "num_total_dic = defaultdict(lambda:0)\n",
    "num_1_dic = defaultdict(lambda:0)\n",
    "num_0_dic = defaultdict(lambda:0)\n",
    "\n",
    "for i, s in enumerate(d_t_ndarr):\n",
    "    for idx in s.nonzero()[0]:\n",
    "        num_total_dic[idx] += 1\n",
    "        if y_train[i] == 1:\n",
    "            num_1_dic[idx] += 1\n",
    "        else:\n",
    "            num_0_dic[idx] += 1"
   ]
  },
  {
   "cell_type": "code",
   "execution_count": 62,
   "metadata": {},
   "outputs": [],
   "source": [
    "# When the token is equal to 0\n",
    "_num_total_dic = defaultdict(lambda:0)\n",
    "_num_1_dic = defaultdict(lambda:0)\n",
    "_num_0_dic = defaultdict(lambda:0)\n",
    "for i, s in enumerate(d_t_ndarr):\n",
    "    for idx in np.where(s==0)[0]:\n",
    "        _num_total_dic[idx] += 1\n",
    "        if y_train[i] == 1:\n",
    "            _num_1_dic[idx] += 1\n",
    "        else:\n",
    "            _num_0_dic[idx] += 1"
   ]
  },
  {
   "cell_type": "code",
   "execution_count": 98,
   "metadata": {},
   "outputs": [
    {
     "data": {
      "text/html": [
       "<div>\n",
       "<style scoped>\n",
       "    .dataframe tbody tr th:only-of-type {\n",
       "        vertical-align: middle;\n",
       "    }\n",
       "\n",
       "    .dataframe tbody tr th {\n",
       "        vertical-align: top;\n",
       "    }\n",
       "\n",
       "    .dataframe thead th {\n",
       "        text-align: right;\n",
       "    }\n",
       "</style>\n",
       "<table border=\"1\" class=\"dataframe\">\n",
       "  <thead>\n",
       "    <tr style=\"text-align: right;\">\n",
       "      <th></th>\n",
       "      <th>term</th>\n",
       "      <th>freq</th>\n",
       "      <th>num_total</th>\n",
       "      <th>num_1</th>\n",
       "      <th>num_0</th>\n",
       "      <th>_num_total</th>\n",
       "      <th>_num_1</th>\n",
       "      <th>_num_0</th>\n",
       "    </tr>\n",
       "  </thead>\n",
       "  <tbody>\n",
       "    <tr>\n",
       "      <th>0</th>\n",
       "      <td>10</td>\n",
       "      <td>5</td>\n",
       "      <td>5</td>\n",
       "      <td>2.0</td>\n",
       "      <td>3.0</td>\n",
       "      <td>1495</td>\n",
       "      <td>809</td>\n",
       "      <td>686</td>\n",
       "    </tr>\n",
       "    <tr>\n",
       "      <th>1</th>\n",
       "      <td>100</td>\n",
       "      <td>1</td>\n",
       "      <td>1</td>\n",
       "      <td>0.0</td>\n",
       "      <td>1.0</td>\n",
       "      <td>1499</td>\n",
       "      <td>811</td>\n",
       "      <td>688</td>\n",
       "    </tr>\n",
       "    <tr>\n",
       "      <th>2</th>\n",
       "      <td>105</td>\n",
       "      <td>1</td>\n",
       "      <td>1</td>\n",
       "      <td>0.0</td>\n",
       "      <td>1.0</td>\n",
       "      <td>1499</td>\n",
       "      <td>811</td>\n",
       "      <td>688</td>\n",
       "    </tr>\n",
       "    <tr>\n",
       "      <th>3</th>\n",
       "      <td>11</td>\n",
       "      <td>2</td>\n",
       "      <td>2</td>\n",
       "      <td>1.0</td>\n",
       "      <td>1.0</td>\n",
       "      <td>1498</td>\n",
       "      <td>810</td>\n",
       "      <td>688</td>\n",
       "    </tr>\n",
       "    <tr>\n",
       "      <th>4</th>\n",
       "      <td>12</td>\n",
       "      <td>1</td>\n",
       "      <td>1</td>\n",
       "      <td>1.0</td>\n",
       "      <td>0.0</td>\n",
       "      <td>1499</td>\n",
       "      <td>810</td>\n",
       "      <td>689</td>\n",
       "    </tr>\n",
       "  </tbody>\n",
       "</table>\n",
       "</div>"
      ],
      "text/plain": [
       "  term  freq  num_total  num_1  num_0  _num_total  _num_1  _num_0\n",
       "0   10     5          5    2.0    3.0        1495     809     686\n",
       "1  100     1          1    0.0    1.0        1499     811     688\n",
       "2  105     1          1    0.0    1.0        1499     811     688\n",
       "3   11     2          2    1.0    1.0        1498     810     688\n",
       "4   12     1          1    1.0    0.0        1499     810     689"
      ]
     },
     "execution_count": 98,
     "metadata": {},
     "output_type": "execute_result"
    }
   ],
   "source": [
    "# Add new columns\n",
    "df1 = pd.DataFrame.from_dict(data= num_total_dic, orient='index', columns=['num_total'])\n",
    "df2 = pd.DataFrame.from_dict(data= num_1_dic, orient='index', columns=['num_1'])\n",
    "df3 = pd.DataFrame.from_dict(data= num_0_dic, orient='index', columns=['num_0'])\n",
    "df4 = pd.DataFrame.from_dict(data= _num_total_dic, orient='index', columns=['_num_total'])\n",
    "df5 = pd.DataFrame.from_dict(data= _num_1_dic, orient='index', columns=['_num_1'])\n",
    "df6 = pd.DataFrame.from_dict(data= _num_0_dic, orient='index', columns=['_num_0'])\n",
    "new_voc_df = voc_df.join(df1)\n",
    "new_voc_df = new_voc_df.join(df2)\n",
    "new_voc_df = new_voc_df.join(df3)\n",
    "new_voc_df = new_voc_df.join(df4)\n",
    "new_voc_df = new_voc_df.join(df5)\n",
    "new_voc_df = new_voc_df.join(df6)\n",
    "# Fill NaN with 0\n",
    "new_voc_df = new_voc_df.fillna(0)\n",
    "new_voc_df.head(5)"
   ]
  },
  {
   "cell_type": "code",
   "execution_count": 100,
   "metadata": {},
   "outputs": [
    {
     "name": "stderr",
     "output_type": "stream",
     "text": [
      "/Users/LiZhuolun/anaconda3/lib/python3.7/site-packages/ipykernel_launcher.py:2: RuntimeWarning: divide by zero encountered in log2\n",
      "  \n",
      "/Users/LiZhuolun/anaconda3/lib/python3.7/site-packages/ipykernel_launcher.py:3: RuntimeWarning: divide by zero encountered in log2\n",
      "  This is separate from the ipykernel package so we can avoid doing imports until\n"
     ]
    }
   ],
   "source": [
    "def get_information_gain(x):\n",
    "    e1 = -(x.num_0/x.num_total*np.log2(x.num_0/x.num_total) \n",
    "             + x.num_1/x.num_total*np.log2(x.num_1/x.num_total))\n",
    "    e2 = -(x._num_0/x._num_total*np.log2(x._num_0/x._num_total) \n",
    "             + x._num_1/x._num_total*np.log2(x._num_1/x._num_total))\n",
    "    after = x.num_total/d_t_ndarr.shape[0] * e1+ x._num_total/d_t_ndarr.shape[0] * e2\n",
    "    return total_entropy-after\n",
    "\n",
    "new_voc_df=new_voc_df.assign(information_gain= lambda x: get_information_gain(x))\n",
    "new_voc_df = new_voc_df.fillna(0)"
   ]
  },
  {
   "cell_type": "code",
   "execution_count": 101,
   "metadata": {
    "scrolled": true
   },
   "outputs": [
    {
     "data": {
      "text/html": [
       "<div>\n",
       "<style scoped>\n",
       "    .dataframe tbody tr th:only-of-type {\n",
       "        vertical-align: middle;\n",
       "    }\n",
       "\n",
       "    .dataframe tbody tr th {\n",
       "        vertical-align: top;\n",
       "    }\n",
       "\n",
       "    .dataframe thead th {\n",
       "        text-align: right;\n",
       "    }\n",
       "</style>\n",
       "<table border=\"1\" class=\"dataframe\">\n",
       "  <thead>\n",
       "    <tr style=\"text-align: right;\">\n",
       "      <th></th>\n",
       "      <th>term</th>\n",
       "      <th>freq</th>\n",
       "      <th>num_total</th>\n",
       "      <th>num_1</th>\n",
       "      <th>num_0</th>\n",
       "      <th>_num_total</th>\n",
       "      <th>_num_1</th>\n",
       "      <th>_num_0</th>\n",
       "      <th>information_gain</th>\n",
       "    </tr>\n",
       "  </thead>\n",
       "  <tbody>\n",
       "    <tr>\n",
       "      <th>399</th>\n",
       "      <td>bad</td>\n",
       "      <td>50</td>\n",
       "      <td>48</td>\n",
       "      <td>3.0</td>\n",
       "      <td>45.0</td>\n",
       "      <td>1452</td>\n",
       "      <td>808</td>\n",
       "      <td>644</td>\n",
       "      <td>0.025357</td>\n",
       "    </tr>\n",
       "    <tr>\n",
       "      <th>487</th>\n",
       "      <td>best</td>\n",
       "      <td>49</td>\n",
       "      <td>47</td>\n",
       "      <td>45.0</td>\n",
       "      <td>2.0</td>\n",
       "      <td>1453</td>\n",
       "      <td>766</td>\n",
       "      <td>687</td>\n",
       "      <td>0.020668</td>\n",
       "    </tr>\n",
       "    <tr>\n",
       "      <th>5098</th>\n",
       "      <td>too</td>\n",
       "      <td>42</td>\n",
       "      <td>35</td>\n",
       "      <td>5.0</td>\n",
       "      <td>30.0</td>\n",
       "      <td>1465</td>\n",
       "      <td>806</td>\n",
       "      <td>659</td>\n",
       "      <td>0.011856</td>\n",
       "    </tr>\n",
       "    <tr>\n",
       "      <th>3228</th>\n",
       "      <td>moving</td>\n",
       "      <td>26</td>\n",
       "      <td>26</td>\n",
       "      <td>25.0</td>\n",
       "      <td>1.0</td>\n",
       "      <td>1474</td>\n",
       "      <td>786</td>\n",
       "      <td>688</td>\n",
       "      <td>0.011615</td>\n",
       "    </tr>\n",
       "    <tr>\n",
       "      <th>225</th>\n",
       "      <td>and</td>\n",
       "      <td>923</td>\n",
       "      <td>739</td>\n",
       "      <td>444.0</td>\n",
       "      <td>295.0</td>\n",
       "      <td>761</td>\n",
       "      <td>367</td>\n",
       "      <td>394</td>\n",
       "      <td>0.010230</td>\n",
       "    </tr>\n",
       "  </tbody>\n",
       "</table>\n",
       "</div>"
      ],
      "text/plain": [
       "        term  freq  num_total  num_1  num_0  _num_total  _num_1  _num_0  \\\n",
       "399      bad    50         48    3.0   45.0        1452     808     644   \n",
       "487     best    49         47   45.0    2.0        1453     766     687   \n",
       "5098     too    42         35    5.0   30.0        1465     806     659   \n",
       "3228  moving    26         26   25.0    1.0        1474     786     688   \n",
       "225      and   923        739  444.0  295.0         761     367     394   \n",
       "\n",
       "      information_gain  \n",
       "399           0.025357  \n",
       "487           0.020668  \n",
       "5098          0.011856  \n",
       "3228          0.011615  \n",
       "225           0.010230  "
      ]
     },
     "execution_count": 101,
     "metadata": {},
     "output_type": "execute_result"
    }
   ],
   "source": [
    "new_voc_df.nlargest(5,'information_gain')"
   ]
  },
  {
   "cell_type": "markdown",
   "metadata": {},
   "source": [
    "## Train a neural network with the top 50 attributes"
   ]
  },
  {
   "cell_type": "code",
   "execution_count": 119,
   "metadata": {},
   "outputs": [
    {
     "data": {
      "text/plain": [
       "Int64Index([399, 487, 5098, 3228, 225], dtype='int64')"
      ]
     },
     "execution_count": 119,
     "metadata": {},
     "output_type": "execute_result"
    }
   ],
   "source": [
    "voca = new_voc_df.nlargest(5,'information_gain')['term']"
   ]
  },
  {
   "cell_type": "code",
   "execution_count": 150,
   "metadata": {},
   "outputs": [
    {
     "data": {
      "text/plain": [
       "array([[0, 0, 0, 0, 3],\n",
       "       [0, 0, 0, 0, 1],\n",
       "       [0, 0, 0, 0, 1],\n",
       "       ...,\n",
       "       [0, 0, 0, 0, 1],\n",
       "       [0, 0, 0, 0, 1],\n",
       "       [0, 0, 0, 0, 0]], dtype=int64)"
      ]
     },
     "execution_count": 150,
     "metadata": {},
     "output_type": "execute_result"
    }
   ],
   "source": [
    "d_t_ndarr[:,voca.index]"
   ]
  },
  {
   "cell_type": "code",
   "execution_count": 126,
   "metadata": {},
   "outputs": [],
   "source": [
    "new_X_train = 1.*(d_t_ndarr[:,voca.index]>0)"
   ]
  },
  {
   "cell_type": "code",
   "execution_count": 131,
   "metadata": {},
   "outputs": [
    {
     "data": {
      "text/plain": [
       "array([[0., 0., 0., 0., 1.],\n",
       "       [0., 0., 0., 0., 1.],\n",
       "       [0., 0., 0., 0., 1.],\n",
       "       ...,\n",
       "       [0., 0., 0., 0., 1.],\n",
       "       [0., 0., 0., 0., 1.],\n",
       "       [0., 0., 0., 0., 0.]])"
      ]
     },
     "execution_count": 131,
     "metadata": {},
     "output_type": "execute_result"
    }
   ],
   "source": [
    "new_X_train"
   ]
  },
  {
   "cell_type": "markdown",
   "metadata": {},
   "source": [
    "### Covert y_train"
   ]
  },
  {
   "cell_type": "code",
   "execution_count": 140,
   "metadata": {},
   "outputs": [],
   "source": [
    "import importlib\n",
    "importlib.reload(neural_network)\n",
    "new_y_train=neural_network.convert_y_to_vect(y_train)"
   ]
  },
  {
   "cell_type": "code",
   "execution_count": null,
   "metadata": {},
   "outputs": [],
   "source": [
    "import importlib\n",
    "importlib.reload(neural_network)\n",
    "import neural_network \n",
    "nn_structure = [5,40,2]\n",
    "W, b, avg_cost_func =neural_network.train_nn(nn_structure,new_X_train,new_y_train, 1000, alpha=0.01)"
   ]
  },
  {
   "cell_type": "code",
   "execution_count": null,
   "metadata": {},
   "outputs": [],
   "source": [
    "# plot the avg_cost_func\n",
    "plt.plot(avg_cost_func)\n",
    "plt.ylabel('Average J')\n",
    "plt.xlabel('Iteration number')\n",
    "plt.show()"
   ]
  }
 ],
 "metadata": {
  "kernelspec": {
   "display_name": "Python 3",
   "language": "python",
   "name": "python3"
  },
  "language_info": {
   "codemirror_mode": {
    "name": "ipython",
    "version": 3
   },
   "file_extension": ".py",
   "mimetype": "text/x-python",
   "name": "python",
   "nbconvert_exporter": "python",
   "pygments_lexer": "ipython3",
   "version": "3.7.3"
  }
 },
 "nbformat": 4,
 "nbformat_minor": 2
}
