{
 "cells": [
  {
   "cell_type": "markdown",
   "metadata": {},
   "source": [
    "# Numpy Array Operations:  Axes and Broadcasting \n",
    "\n",
    "There is an excellent introduction to `numpy` multi-dimensional arrays on the [scipy](https://docs.scipy.org/doc/numpy-dev/user/quickstart.html) website.  In this note, we cover two concepts in a little more detail:\n",
    "* Using the `axis` feature \n",
    "* Python broadcasting\n",
    "\n",
    "We will need both of these for performing many of the numerical operations for the ML class.\n",
    "\n",
    "As usual, we begin by loading the `numpy` package."
   ]
  },
  {
   "cell_type": "code",
   "execution_count": 46,
   "metadata": {},
   "outputs": [],
   "source": [
    "%reload_ext autoreload\n",
    "%autoreload 2\n",
    "%matplotlib inline"
   ]
  },
  {
   "cell_type": "code",
   "execution_count": 47,
   "metadata": {},
   "outputs": [],
   "source": [
    "import numpy as np"
   ]
  },
  {
   "cell_type": "markdown",
   "metadata": {},
   "source": [
    "## Axis Parameter\n",
    "\n",
    "Many operations in the `numpy` package can take an optional `axis` parameter to specify which dimensions the operation is to be applied.  This is extremely useful for multi-dimensional data.  To illustrate the `axis` parameter, consider a matrix the `(3,2)` array `X` defined as:"
   ]
  },
  {
   "cell_type": "code",
   "execution_count": 15,
   "metadata": {},
   "outputs": [
    {
     "name": "stdout",
     "output_type": "stream",
     "text": [
      "[[0 1]\n",
      " [2 3]\n",
      " [4 5]]\n",
      "[1 3 5]\n"
     ]
    }
   ],
   "source": [
    "X = np.arange(6).reshape(3,2)\n",
    "print(X)\n",
    "print(X[:,1])"
   ]
  },
  {
   "cell_type": "markdown",
   "metadata": {},
   "source": [
    "An operation like `np.mean` or `np.sum` takes the mean or sum of *all* elements in the array. "
   ]
  },
  {
   "cell_type": "code",
   "execution_count": 9,
   "metadata": {},
   "outputs": [
    {
     "name": "stdout",
     "output_type": "stream",
     "text": [
      "2.5\n",
      "15\n"
     ]
    }
   ],
   "source": [
    "print(np.mean(X))\n",
    "print(np.sum(X))"
   ]
  },
  {
   "cell_type": "markdown",
   "metadata": {},
   "source": [
    "To take only the `sum` along each column, we can use the `axis` parameter."
   ]
  },
  {
   "cell_type": "code",
   "execution_count": 10,
   "metadata": {},
   "outputs": [
    {
     "name": "stdout",
     "output_type": "stream",
     "text": [
      "[6 9]\n"
     ]
    }
   ],
   "source": [
    "print(np.sum(X,axis=0))"
   ]
  },
  {
   "cell_type": "markdown",
   "metadata": {},
   "source": [
    "Since `X` has shape `(3,2)`, the output `np.sum(X,axis=0)` is of shape `(2,)`.  Similarly, we can take the `sum` along each row:"
   ]
  },
  {
   "cell_type": "code",
   "execution_count": 11,
   "metadata": {},
   "outputs": [
    {
     "name": "stdout",
     "output_type": "stream",
     "text": [
      "[1 5 9]\n"
     ]
    }
   ],
   "source": [
    "print(np.sum(X,axis=1))"
   ]
  },
  {
   "cell_type": "markdown",
   "metadata": {},
   "source": [
    "You can apply this to higher-order arrays:"
   ]
  },
  {
   "cell_type": "code",
   "execution_count": 18,
   "metadata": {},
   "outputs": [
    {
     "name": "stdout",
     "output_type": "stream",
     "text": [
      "X = [[[ 0  1  2  3]\n",
      "  [ 4  5  6  7]\n",
      "  [ 8  9 10 11]]\n",
      "\n",
      " [[12 13 14 15]\n",
      "  [16 17 18 19]\n",
      "  [20 21 22 23]]]\n",
      "Y1 = \n",
      "[[12 14 16 18]\n",
      " [20 22 24 26]\n",
      " [28 30 32 34]]\n",
      "Y2 = \n",
      "[[12 15 18 21]\n",
      " [48 51 54 57]]\n"
     ]
    }
   ],
   "source": [
    "X = np.arange(24).reshape(2,3,4)  # shape = (2,3,4)\n",
    "Y1 = np.sum(X,axis=0)             # shape = (3,4)\n",
    "Y2 = np.sum(X,axis=1)             # shape = (2,4)\n",
    "print(f'X = {X}')\n",
    "print('Y1 = ')\n",
    "print(Y1)\n",
    "print('Y2 = ')\n",
    "print(Y2)"
   ]
  },
  {
   "cell_type": "markdown",
   "metadata": {},
   "source": [
    "## Broadcasting\n",
    "\n",
    "**Broadcasting** is a powerful tool in Python for performing operations on matrices that we will use throughout the ML class.  A good tutorial on broadcasting can be found on the [scipy broadcasting page](https://docs.scipy.org/doc/numpy-1.13.0/user/basics.broadcasting.html).  Here we provide some examples.   "
   ]
  },
  {
   "cell_type": "markdown",
   "metadata": {},
   "source": [
    "### The Broadcasting rule\n",
    "\n",
    "Arrays with a size of 1 along a particular dimension act as if they had the size of the array with the largest shape along that dimension, by “stretching” the dimensions with size 1.\n",
    "\n",
    "Specifically, when operating on two arrays, NumPy compares their shapes element-wise. It starts with the trailing dimensions, and works its way forward. Two dimensions are compatible when:\n",
    "1. they are equal, or\n",
    "2. one of them is 1"
   ]
  },
  {
   "cell_type": "code",
   "execution_count": 58,
   "metadata": {},
   "outputs": [
    {
     "name": "stdout",
     "output_type": "stream",
     "text": [
      "[[11 13 11]\n",
      " [ 5 19 18]]\n",
      "[[19  0]]\n"
     ]
    },
    {
     "data": {
      "text/plain": [
       "array([[[ -8,  -6,  -8],\n",
       "        [ 11,  13,  11]],\n",
       "\n",
       "       [[-14,   0,  -1],\n",
       "        [  5,  19,  18]]])"
      ]
     },
     "execution_count": 58,
     "metadata": {},
     "output_type": "execute_result"
    }
   ],
   "source": [
    "X1 = np.random.randint(0,20,(2,3))\n",
    "print(X1)\n",
    "Y2 = np.random.randint(0,20,(1,2))\n",
    "print(Y2)"
   ]
  },
  {
   "cell_type": "markdown",
   "metadata": {},
   "source": [
    "Since X1 and Y2 doesn't meet the broadcasting rule, we need to ad axis to the marices so that they can be computed."
   ]
  },
  {
   "cell_type": "code",
   "execution_count": 59,
   "metadata": {},
   "outputs": [
    {
     "data": {
      "text/plain": [
       "array([[[ -8,  -6,  -8],\n",
       "        [ 11,  13,  11]],\n",
       "\n",
       "       [[-14,   0,  -1],\n",
       "        [  5,  19,  18]]])"
      ]
     },
     "execution_count": 59,
     "metadata": {},
     "output_type": "execute_result"
    }
   ],
   "source": [
    "X1[:,None,:]-Y2[:,:,None]"
   ]
  },
  {
   "cell_type": "markdown",
   "metadata": {},
   "source": [
    "### Example 1:  Mean Removal\n",
    "\n",
    "Suppose that `X` is a data matrix of shape `(n,p)`.  That is, there are `n` data points and `p` features per point.  Often, we have to remove the mean from each feature.  That is, we want to compute the mean for each feature and then remove the mean from each column.  We could do this with a for-loop as:\n",
    "   \n",
    "    Xm = np.zeros(p)      # Mean for each feature\n",
    "    X1_demean = np.zeros((n,p))  # Transformed features with the means removed\n",
    "    for j in range(p):\n",
    "       Xm[j] = np.mean(X[:,j])\n",
    "       for i in range(n):\n",
    "           X_demean[i,j] = X[i,j] - Xm[j]\n",
    "           \n",
    "The code below does this without a for loop using the `axis` parameter and broadcasting."
   ]
  },
  {
   "cell_type": "code",
   "execution_count": 29,
   "metadata": {},
   "outputs": [
    {
     "name": "stdout",
     "output_type": "stream",
     "text": [
      "X = [[ 0  1  2  3  4]\n",
      " [ 5  6  7  8  9]\n",
      " [10 11 12 13 14]\n",
      " [15 16 17 18 19]\n",
      " [20 21 22 23 24]\n",
      " [25 26 27 28 29]\n",
      " [30 31 32 33 34]\n",
      " [35 36 37 38 39]\n",
      " [40 41 42 43 44]\n",
      " [45 46 47 48 49]]\n",
      "Xm = [22.5 23.5 24.5 25.5 26.5]\n",
      "Xm[None,:] = [[22.5 23.5 24.5 25.5 26.5]]\n",
      "X-Xm[None,:]=\n",
      "X_demean = [[-22.5 -22.5 -22.5 -22.5 -22.5]\n",
      " [-17.5 -17.5 -17.5 -17.5 -17.5]\n",
      " [-12.5 -12.5 -12.5 -12.5 -12.5]\n",
      " [ -7.5  -7.5  -7.5  -7.5  -7.5]\n",
      " [ -2.5  -2.5  -2.5  -2.5  -2.5]\n",
      " [  2.5   2.5   2.5   2.5   2.5]\n",
      " [  7.5   7.5   7.5   7.5   7.5]\n",
      " [ 12.5  12.5  12.5  12.5  12.5]\n",
      " [ 17.5  17.5  17.5  17.5  17.5]\n",
      " [ 22.5  22.5  22.5  22.5  22.5]]\n"
     ]
    }
   ],
   "source": [
    "# Generate some random data\n",
    "n = 10\n",
    "p = 5\n",
    "X = np.arange(n*p).reshape(n,p)\n",
    "print(f'X = {X}')\n",
    "\n",
    "# Compute the mean per column using the axis command\n",
    "Xm = np.mean(X,axis=0)  # This is a p-dim matrix\n",
    "print(f'Xm = {Xm}')\n",
    "\n",
    "print(f'Xm[None,:] = {Xm[None,:]}')\n",
    "\n",
    "# Subtract the mean\n",
    "X_demean = X - Xm[None,:]\n",
    "print('X-Xm[None,:]=')\n",
    "print(f'X_demean = {X_demean}')"
   ]
  },
  {
   "cell_type": "markdown",
   "metadata": {},
   "source": [
    "The command `Xm = np.mean(X,axis=0)` computes the mean of each column which is a `p` dimensional array.  Then, `Xm[None,:]` converts this to a `(1,p)` shape array.  Using Python broadcasting, we can then subtract the `Xm[None,:]` from `X`."
   ]
  },
  {
   "cell_type": "markdown",
   "metadata": {},
   "source": [
    "### Example 2:  Standardizing variables\n",
    "\n",
    "A variant of the above example is to *standardize* the features, where we compute the transform variables,\n",
    "\n",
    "    Z[i,j] = (X[i,j] - Xm[j])/ Xstd[j]\n",
    "    \n",
    "where `Xstd[j]` is the standard deviation per feature.  This can be done as follows:"
   ]
  },
  {
   "cell_type": "code",
   "execution_count": 32,
   "metadata": {},
   "outputs": [
    {
     "name": "stdout",
     "output_type": "stream",
     "text": [
      "Xstd = [14.36140662 14.36140662 14.36140662 14.36140662 14.36140662]\n",
      "Z = [[-1.5666989  -1.5666989  -1.5666989  -1.5666989  -1.5666989 ]\n",
      " [-1.21854359 -1.21854359 -1.21854359 -1.21854359 -1.21854359]\n",
      " [-0.87038828 -0.87038828 -0.87038828 -0.87038828 -0.87038828]\n",
      " [-0.52223297 -0.52223297 -0.52223297 -0.52223297 -0.52223297]\n",
      " [-0.17407766 -0.17407766 -0.17407766 -0.17407766 -0.17407766]\n",
      " [ 0.17407766  0.17407766  0.17407766  0.17407766  0.17407766]\n",
      " [ 0.52223297  0.52223297  0.52223297  0.52223297  0.52223297]\n",
      " [ 0.87038828  0.87038828  0.87038828  0.87038828  0.87038828]\n",
      " [ 1.21854359  1.21854359  1.21854359  1.21854359  1.21854359]\n",
      " [ 1.5666989   1.5666989   1.5666989   1.5666989   1.5666989 ]]\n"
     ]
    }
   ],
   "source": [
    "Xstd = np.std(X,axis=0)\n",
    "print(f'Xstd = {Xstd}')\n",
    "Z = (X-Xm[None,:])/Xstd[None,:]\n",
    "print(f'Z = {Z}')"
   ]
  },
  {
   "cell_type": "markdown",
   "metadata": {},
   "source": [
    "### Example 3:  Distances\n",
    "\n",
    "Here is a more complicated example.  Suppose we have a data matrix `X` of shape `(nx,p)` and a second set of points, `Y` of shape `(ny,p)`. For each `i` and `j`, we want to compute the distances, \n",
    "\n",
    "     d[i,j] = np.sum((X[i,:] - Y[j,:])**2)\n",
    "     \n",
    "This represents the distances between the vectors `X[i,:]` and `Y[j,:]`.  This sort of computation is used for clustering and nearest neighbors.  We can do this without a for loop as follows"
   ]
  },
  {
   "cell_type": "code",
   "execution_count": 43,
   "metadata": {},
   "outputs": [
    {
     "name": "stdout",
     "output_type": "stream",
     "text": [
      "X=[[ 9 19]\n",
      " [ 2 10]\n",
      " [ 4  7]\n",
      " [ 0  9]]\n",
      "Y=[[3 0]\n",
      " [1 2]\n",
      " [4 0]]\n",
      "X[:,None,:] = [[[ 9 19]]\n",
      "\n",
      " [[ 2 10]]\n",
      "\n",
      " [[ 4  7]]\n",
      "\n",
      " [[ 0  9]]]\n",
      "X[None,:,:] = [[[ 9 19]\n",
      "  [ 2 10]\n",
      "  [ 4  7]\n",
      "  [ 0  9]]]\n",
      "Y[None,:,:] = [[[3 0]\n",
      "  [1 2]\n",
      "  [4 0]]]\n",
      "DXY=\n",
      "[[[ 6 19]\n",
      "  [ 8 17]\n",
      "  [ 5 19]]\n",
      "\n",
      " [[-1 10]\n",
      "  [ 1  8]\n",
      "  [-2 10]]\n",
      "\n",
      " [[ 1  7]\n",
      "  [ 3  5]\n",
      "  [ 0  7]]\n",
      "\n",
      " [[-3  9]\n",
      "  [-1  7]\n",
      "  [-4  9]]]\n"
     ]
    }
   ],
   "source": [
    "# Some random data\n",
    "nx = 4\n",
    "ny = 3\n",
    "p = 2\n",
    "X = np.random.randint(0,20,(nx,p))\n",
    "Y = np.random.randint(0,5,(ny,p))\n",
    "print(f'X={X}')\n",
    "print(f'Y={Y}')\n",
    "print(f'X[:,None,:] = {X[:,None,:]}')\n",
    "print(f'X[None,:,:] = {X[None,:,:]}')\n",
    "print(f'Y[None,:,:] = {Y[None,:,:]}')\n",
    "# Computing the distances in two lines.  No for loop!\n",
    "DXY = X[:,None,:]-Y[None,:,:]\n",
    "d = np.sum(DXY**2,axis=2)\n",
    "print('DXY=')\n",
    "print(DXY)"
   ]
  },
  {
   "cell_type": "markdown",
   "metadata": {
    "collapsed": true
   },
   "source": [
    "How does this work? First, we use `None` keyword to reshape the matrices `X` and `Y` to compatible sizes\n",
    "\n",
    "     X[:,None,:]    # Shape nx,  1, p\n",
    "     Y[None,:,:]    # Shape 1,  ny, p\n",
    "     \n",
    "The two matrices can be subtracted so that\n",
    "\n",
    "     DXY[i,j,k]  = X[i,k] - Y[j,k]\n",
    "     \n",
    "Then, `d[i,j] = sum_k (X[i,k] - Y[j,k])**2`, which is the norm squared of the vector differences."
   ]
  },
  {
   "cell_type": "markdown",
   "metadata": {},
   "source": [
    "### Example 4:  Outer product\n",
    "\n",
    "The *outer product* of vectors `x` and `y` is the matrix `Z[i,j] = x[i]y[j]`.  This can be performed in one line as follows"
   ]
  },
  {
   "cell_type": "code",
   "execution_count": 64,
   "metadata": {},
   "outputs": [
    {
     "name": "stdout",
     "output_type": "stream",
     "text": [
      "X=[0.47992357 0.2659027  0.14946256 0.51086325 0.92344478 0.9529356\n",
      " 0.9572224  0.77761824 0.40699581 0.61992902]\n",
      "Y=[0.25226595 0.33025324]\n"
     ]
    },
    {
     "data": {
      "text/plain": [
       "array([[0.12106838, 0.15849631],\n",
       "       [0.0670782 , 0.08781523],\n",
       "       [0.03770432, 0.04936049],\n",
       "       [0.12887341, 0.16871424],\n",
       "       [0.23295368, 0.30497063],\n",
       "       [0.24039321, 0.31471007],\n",
       "       [0.24147462, 0.3161258 ],\n",
       "       [0.19616661, 0.25681094],\n",
       "       [0.10267119, 0.13441168],\n",
       "       [0.15638699, 0.20473357]])"
      ]
     },
     "execution_count": 64,
     "metadata": {},
     "output_type": "execute_result"
    }
   ],
   "source": [
    "# Some random data\n",
    "nx = 10\n",
    "ny = 2\n",
    "X = np.random.rand(nx)\n",
    "Y = np.random.rand(ny)\n",
    "print(f'X={X}')\n",
    "print(f'Y={Y}')\n",
    "# Compute the outer product in one line\n",
    "Z = X[:,None]*Y[None,:]\n",
    "Z"
   ]
  },
  {
   "cell_type": "markdown",
   "metadata": {},
   "source": [
    "Here:\n",
    "\n",
    "     x[:,None] # Has shape (nx,  1)\n",
    "     y[None,:] # Has shape ( 1, ny)\n",
    "     \n",
    "So, with python broadcasting:\n",
    "\n",
    "     Z = x[:,None]*y[None,:] # has shape (nx,  ny)\n"
   ]
  },
  {
   "cell_type": "markdown",
   "metadata": {},
   "source": [
    "## Exercise"
   ]
  },
  {
   "cell_type": "markdown",
   "metadata": {
    "collapsed": true
   },
   "source": [
    "**Exercise 1:**  Given a matrix `X`, compute the matrix `Y`, where the rows of `X` are normaized to one.  That is:\n",
    "\n",
    "     Y[i,j] = X[i,j] / sum_j X[i,j]   "
   ]
  },
  {
   "cell_type": "code",
   "execution_count": 77,
   "metadata": {},
   "outputs": [
    {
     "name": "stdout",
     "output_type": "stream",
     "text": [
      "[[0.67459292 0.26187857 0.0912715 ]\n",
      " [0.27043251 0.9976622  0.36720831]\n",
      " [0.37976151 0.35713238 0.79053506]\n",
      " [0.21885813 0.07215531 0.35665326]]\n",
      "X_sum_j = [1.027743   1.63530302 1.52742895 0.64766671]\n"
     ]
    }
   ],
   "source": [
    "X = np.random.rand(4,3)\n",
    "print(X)\n",
    "# Caculate the the sum of each row\n",
    "X_sum_j = np.sum(X, axis=1)\n",
    "print(f'X_sum_j = {X_sum_j}')\n",
    "# The shape of X is (4,3) and the shape of Y should be (4,3), so we need the shape of X_sum_j to be (4,1)\n",
    "# And new axis at the end of the dimension\n",
    "Y = X/X_sum_j[:,None]"
   ]
  },
  {
   "cell_type": "markdown",
   "metadata": {},
   "source": [
    "**Exercise 2:** Diagonal multiplication.  Given a matrix `X` and a vector `d`, compute `Y = diag(d)*X`."
   ]
  },
  {
   "cell_type": "code",
   "execution_count": 85,
   "metadata": {},
   "outputs": [
    {
     "name": "stdout",
     "output_type": "stream",
     "text": [
      "[[0.06949304 0.         0.         0.         0.        ]\n",
      " [0.         0.83265415 0.         0.         0.        ]\n",
      " [0.         0.         0.48629284 0.         0.        ]\n",
      " [0.         0.         0.         0.59811337 0.        ]\n",
      " [0.         0.         0.         0.         0.88559345]]\n"
     ]
    },
    {
     "data": {
      "text/plain": [
       "array([[[0.06379967, 0.01245082, 0.06448699],\n",
       "        [0.        , 0.        , 0.        ],\n",
       "        [0.        , 0.        , 0.        ],\n",
       "        [0.        , 0.        , 0.        ],\n",
       "        [0.        , 0.        , 0.        ]],\n",
       "\n",
       "       [[0.        , 0.        , 0.        ],\n",
       "        [0.13865168, 0.79475176, 0.70934603],\n",
       "        [0.        , 0.        , 0.        ],\n",
       "        [0.        , 0.        , 0.        ],\n",
       "        [0.        , 0.        , 0.        ]],\n",
       "\n",
       "       [[0.        , 0.        , 0.        ],\n",
       "        [0.        , 0.        , 0.        ],\n",
       "        [0.31543407, 0.46500495, 0.17490456],\n",
       "        [0.        , 0.        , 0.        ],\n",
       "        [0.        , 0.        , 0.        ]],\n",
       "\n",
       "       [[0.        , 0.        , 0.        ],\n",
       "        [0.        , 0.        , 0.        ],\n",
       "        [0.        , 0.        , 0.        ],\n",
       "        [0.5002267 , 0.40818013, 0.31766957],\n",
       "        [0.        , 0.        , 0.        ]],\n",
       "\n",
       "       [[0.        , 0.        , 0.        ],\n",
       "        [0.        , 0.        , 0.        ],\n",
       "        [0.        , 0.        , 0.        ],\n",
       "        [0.        , 0.        , 0.        ],\n",
       "        [0.1755707 , 0.67805081, 0.06137058]]])"
      ]
     },
     "execution_count": 85,
     "metadata": {},
     "output_type": "execute_result"
    }
   ],
   "source": [
    "X = np.random.rand(5,3)\n",
    "d = np.random.rand(5)\n",
    "d_diag = d *np.eye(5)\n",
    "print(d_diag)\n",
    "Y = d_diag[:,:,None]*X[:,None,:]\n",
    "Y"
   ]
  }
 ],
 "metadata": {
  "anaconda-cloud": {},
  "kernelspec": {
   "display_name": "Python [conda env:root]",
   "language": "python",
   "name": "conda-root-py"
  },
  "language_info": {
   "codemirror_mode": {
    "name": "ipython",
    "version": 3
   },
   "file_extension": ".py",
   "mimetype": "text/x-python",
   "name": "python",
   "nbconvert_exporter": "python",
   "pygments_lexer": "ipython3",
   "version": "3.7.0"
  },
  "toc": {
   "base_numbering": 1,
   "nav_menu": {},
   "number_sections": true,
   "sideBar": true,
   "skip_h1_title": false,
   "title_cell": "Table of Contents",
   "title_sidebar": "Contents",
   "toc_cell": false,
   "toc_position": {},
   "toc_section_display": true,
   "toc_window_display": false
  }
 },
 "nbformat": 4,
 "nbformat_minor": 1
}
